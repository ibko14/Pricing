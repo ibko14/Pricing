{
 "cells": [
  {
   "cell_type": "code",
   "execution_count": 73,
   "id": "bc6fcc5a-3dc7-4c29-a983-0d7711a97c27",
   "metadata": {},
   "outputs": [],
   "source": [
    " import numpy as np\n",
    " import pandas as pd\n",
    " from pylab import mpl, plt\n",
    " plt.style.use('seaborn-v0_8')\n",
    " mpl.rcParams['font.family'] = 'serif'\n",
    " %matplotlib inline\n",
    " from io import StringIO\n",
    " import math as math\n",
    " import numpy.random as npr\n",
    " import scipy.stats as scs"
   ]
  },
  {
   "cell_type": "code",
   "execution_count": 4,
   "id": "a6416b3e-b8e3-4ec7-86dc-d90e39380e92",
   "metadata": {},
   "outputs": [],
   "source": [
    " filename = 'WTI.csv'"
   ]
  },
  {
   "cell_type": "code",
   "execution_count": 5,
   "id": "b1408b31-0d86-4ee7-8849-8a9795407f0a",
   "metadata": {},
   "outputs": [
    {
     "data": {
      "text/plain": [
       "['date,ouv,haut,bas,clot,vol,devise\\n',\n",
       " '28/04/2023 00:00,74.82,76.93,73.97,76.7,26092,USD\\n',\n",
       " '02/05/2023 00:00,75.64,76.09,71.44,71.57,27840,USD\\n',\n",
       " '03/05/2023 00:00,71.61,71.79,67.97,68.19,34499,USD\\n',\n",
       " '04/05/2023 00:00,67.36,69.83,67.32,68.7,34704,USD\\n',\n",
       " '05/05/2023 00:00,68.7,71.82,68.52,71.36,25624,USD\\n',\n",
       " '09/05/2023 00:00,72.91,73.79,71.35,73.53,24465,USD\\n',\n",
       " '10/05/2023 00:00,73.6,73.88,71.83,72.8,23411,USD\\n',\n",
       " '11/05/2023 00:00,72.87,73.51,70.65,71.51,27933,USD\\n',\n",
       " '12/05/2023 00:00,71.28,71.76,69.94,70.07,21295,USD\\n',\n",
       " '15/05/2023 00:00,70.11,71.7,69.46,71.33,26141,USD\\n',\n",
       " '16/05/2023 00:00,71.38,71.78,70.46,70.56,18524,USD\\n',\n",
       " '17/05/2023 00:00,70.62,73.23,70.06,72.71,25481,USD\\n',\n",
       " '18/05/2023 00:00,72.63,72.86,71.43,72.02,13069,USD\\n',\n",
       " '19/05/2023 00:00,71.98,73.21,71.03,71.52,2425,USD\\n',\n",
       " '22/05/2023 00:00,71.77,72.54,70.68,72.14,25285,USD\\n',\n",
       " '23/05/2023 00:00,72.31,73.75,71.74,73.7,35920,USD\\n',\n",
       " '24/05/2023 00:00,73.85,74.73,73.2,74.11,41936,USD\\n',\n",
       " '25/05/2023 00:00,74.28,74.38,71.03,71.9,53452,USD\\n',\n",
       " '26/05/2023 00:00,71.85,73.05,71.54,72.87,21242,USD\\n',\n",
       " '30/05/2023 00:00,72.88,73.31,69.03,69.56,34948,USD\\n',\n",
       " '31/05/2023 00:00,69.55,69.68,67.05,67.66,38237,USD\\n',\n",
       " '01/06/2023 00:00,67.73,71.07,67.55,70.23,29082,USD\\n',\n",
       " '02/06/2023 00:00,70.1,72.2,70.02,71.97,25389,USD\\n',\n",
       " '05/06/2023 00:00,74.55,74.68,71.75,71.88,37177,USD\\n',\n",
       " '06/06/2023 00:00,72.02,72.34,70.15,71.52,33713,USD\\n',\n",
       " '07/06/2023 00:00,71.76,73.2,71.02,72.49,33666,USD\\n',\n",
       " '08/06/2023 00:00,72.4,73.28,69.06,70.94,50350,USD\\n',\n",
       " '09/06/2023 00:00,70.87,71.78,70.11,70.36,28871,USD\\n',\n",
       " '12/06/2023 00:00,70.27,70.31,66.81,67.16,47872,USD\\n',\n",
       " '13/06/2023 00:00,67.41,69.84,67.18,69.32,51515,USD\\n',\n",
       " '14/06/2023 00:00,69.23,70.49,68.09,68.7,40948,USD\\n',\n",
       " '15/06/2023 00:00,68.56,70.97,68.07,70.56,10394,USD\\n',\n",
       " '16/06/2023 00:00,70.55,71.82,69.97,71.82,5122,USD\\n',\n",
       " '20/06/2023 00:00,71.37,72.39,69.79,71.03,38390,USD\\n',\n",
       " '21/06/2023 00:00,70.94,72.71,70.86,72.44,31970,USD\\n',\n",
       " '22/06/2023 00:00,72.47,72.65,68.96,69.46,78268,USD\\n',\n",
       " '23/06/2023 00:00,69.39,69.61,67.37,69.52,52323,USD\\n',\n",
       " '26/06/2023 00:00,69.77,70.05,68.73,69.58,34544,USD\\n',\n",
       " '27/06/2023 00:00,69.52,70.16,67.5,67.94,51965,USD\\n',\n",
       " '28/06/2023 00:00,67.97,69.73,67.06,69.16,47475,USD\\n',\n",
       " '29/06/2023 00:00,69.32,70.59,68.94,69.83,34205,USD\\n',\n",
       " '30/06/2023 00:00,69.74,71.04,69.54,70.35,32035,USD\\n',\n",
       " '03/07/2023 00:00,70.46,71.77,69.7,70.14,28618,USD\\n',\n",
       " '04/07/2023 00:00,70.07,71.37,69.98,71.23,7982,USD\\n',\n",
       " '05/07/2023 00:00,71.08,72.17,70.39,71.88,45246,USD\\n',\n",
       " '06/07/2023 00:00,71.94,72.35,70.23,71.87,46498,USD\\n',\n",
       " '07/07/2023 00:00,71.84,73.92,71.21,73.68,35960,USD\\n',\n",
       " '10/07/2023 00:00,73.93,74.14,72.68,73.2,30186,USD\\n',\n",
       " '11/07/2023 00:00,73.14,74.95,72.98,74.76,35790,USD\\n',\n",
       " '12/07/2023 00:00,74.78,76.14,74.7,75.89,36137,USD\\n',\n",
       " '13/07/2023 00:00,75.83,77.33,75.33,77.23,36977,USD\\n',\n",
       " '14/07/2023 00:00,77.19,77.25,75.12,75.27,35850,USD\\n',\n",
       " '17/07/2023 00:00,74.8,76.09,73.85,74.08,34415,USD\\n',\n",
       " '18/07/2023 00:00,74.28,75.93,73.89,75.68,18449,USD\\n',\n",
       " '19/07/2023 00:00,75.65,76.86,75.14,75.38,6966,USD\\n',\n",
       " '20/07/2023 00:00,75.15,76.16,74.52,75.74,47947,USD\\n',\n",
       " '21/07/2023 00:00,75.81,77.28,75.75,76.91,53014,USD\\n',\n",
       " '24/07/2023 00:00,77.11,79.27,76.45,78.9,49725,USD\\n',\n",
       " '25/07/2023 00:00,78.86,79.9,78.29,79.38,54472,USD\\n',\n",
       " '26/07/2023 00:00,79.29,79.77,78.55,78.95,47198,USD\\n',\n",
       " '27/07/2023 00:00,79,80.59,78.98,79.81,59138,USD\\n',\n",
       " '28/07/2023 00:00,79.57,80.71,79.09,80.67,47421,USD\\n',\n",
       " '31/07/2023 00:00,79.57,81.99,79.09,81.85,36021,USD\\n',\n",
       " '01/08/2023 00:00,81.59,82.19,80.59,82.14,35837,USD\\n',\n",
       " '02/08/2023 00:00,82.24,82.42,79.06,79.76,47033,USD\\n',\n",
       " '03/08/2023 00:00,79.75,81.86,78.69,81.76,46062,USD\\n',\n",
       " '04/08/2023 00:00,81.76,83.22,81.52,82.67,34531,USD\\n',\n",
       " '07/08/2023 00:00,82.8,83.3,81.52,82.5,40307,USD\\n',\n",
       " '08/08/2023 00:00,82.38,83.06,79.9,82.9,52266,USD\\n',\n",
       " '09/08/2023 00:00,82.71,84.63,82.67,84.26,66874,USD\\n',\n",
       " '10/08/2023 00:00,84.2,84.88,82.62,82.82,32493,USD\\n',\n",
       " '11/08/2023 00:00,82.84,83.79,82.23,83.04,38893,USD\\n',\n",
       " '14/08/2023 00:00,83,83.18,81.8,82.5,23593,USD\\n',\n",
       " '15/08/2023 00:00,82.66,82.91,80.41,81.05,31934,USD\\n',\n",
       " '16/08/2023 00:00,81.03,81.42,79.06,79.22,34817,USD\\n',\n",
       " '17/08/2023 00:00,79.13,81.08,78.99,80.12,21844,USD\\n',\n",
       " '18/08/2023 00:00,79.98,81.54,79.64,81.34,10079,USD\\n',\n",
       " '21/08/2023 00:00,81.28,82.37,80.74,80.74,5846,USD\\n',\n",
       " '22/08/2023 00:00,80.15,80.37,79.47,79.6,42949,USD\\n',\n",
       " '23/08/2023 00:00,79.62,79.88,77.63,78.55,51553,USD\\n',\n",
       " '24/08/2023 00:00,78.63,79.29,77.62,78.86,49407,USD\\n',\n",
       " '25/08/2023 00:00,78.91,80.46,78.18,79.96,70454,USD\\n',\n",
       " '29/08/2023 00:00,80.07,81.41,79.38,81.3,36658,USD\\n',\n",
       " '30/08/2023 00:00,81.37,82.04,80.89,81.71,39172,USD\\n',\n",
       " '31/08/2023 00:00,81.69,83.68,81.52,83.57,44194,USD\\n',\n",
       " '01/09/2023 00:00,83.54,85.97,83.54,85.97,62660,USD\\n',\n",
       " '04/09/2023 00:00,85.77,86.1,85.27,85.93,13672,USD\\n',\n",
       " '05/09/2023 00:00,85.87,88.05,85.01,86.71,49387,USD\\n',\n",
       " '06/09/2023 00:00,86.91,88.08,85.94,87.54,35965,USD\\n',\n",
       " '07/09/2023 00:00,87.61,87.73,86.4,86.75,33632,USD\\n',\n",
       " '08/09/2023 00:00,86.76,87.95,86.18,87.22,34815,USD\\n',\n",
       " '11/09/2023 00:00,87.14,88.15,86.77,87.28,36013,USD\\n',\n",
       " '12/09/2023 00:00,87.29,89.38,87.25,88.79,37298,USD\\n',\n",
       " '13/09/2023 00:00,88.82,89.61,88.3,88.87,42193,USD\\n',\n",
       " '14/09/2023 00:00,88.74,90.77,88.74,90.75,37790,USD\\n',\n",
       " '15/09/2023 00:00,90.7,91.22,89.24,91.19,36648,USD\\n',\n",
       " '18/09/2023 00:00,90.96,92.32,90.82,91.84,15265,USD\\n',\n",
       " '19/09/2023 00:00,92.43,93.7,91.04,91.12,2610,USD\\n',\n",
       " '20/09/2023 00:00,90.68,91.07,88.97,89.34,67941,USD\\n']"
      ]
     },
     "execution_count": 5,
     "metadata": {},
     "output_type": "execute_result"
    }
   ],
   "source": [
    "f = open(filename, 'r') \n",
    "f.readlines()[:100]"
   ]
  },
  {
   "cell_type": "code",
   "execution_count": 6,
   "id": "b08307ba-6cd8-4dbe-9e21-cd07bc678bd5",
   "metadata": {},
   "outputs": [],
   "source": [
    "data=pd.read_csv(filename,index_col=0,parse_dates=True,dayfirst=True)"
   ]
  },
  {
   "cell_type": "code",
   "execution_count": 7,
   "id": "db67bf19-a0c5-414c-aade-c4e81d474628",
   "metadata": {},
   "outputs": [
    {
     "data": {
      "text/plain": [
       "<bound method DataFrame.info of               ouv   haut    bas   clot    vol devise\n",
       "date                                                \n",
       "2023-04-28  74.82  76.93  73.97  76.70  26092    USD\n",
       "2023-05-02  75.64  76.09  71.44  71.57  27840    USD\n",
       "2023-05-03  71.61  71.79  67.97  68.19  34499    USD\n",
       "2023-05-04  67.36  69.83  67.32  68.70  34704    USD\n",
       "2023-05-05  68.70  71.82  68.52  71.36  25624    USD\n",
       "...           ...    ...    ...    ...    ...    ...\n",
       "2024-04-22  82.06  82.30  80.73  82.13  43074    USD\n",
       "2024-04-23  82.13  83.45  80.91  83.36  46310    USD\n",
       "2024-04-24  83.50  83.73  82.46  82.82  50395    USD\n",
       "2024-04-25  82.68  83.82  82.02  83.81  49277    USD\n",
       "2024-04-26  83.80  84.47  83.37  83.69  40704    USD\n",
       "\n",
       "[251 rows x 6 columns]>"
      ]
     },
     "execution_count": 7,
     "metadata": {},
     "output_type": "execute_result"
    }
   ],
   "source": [
    "data.info"
   ]
  },
  {
   "cell_type": "code",
   "execution_count": 8,
   "id": "990474ac-d4a4-432a-a438-e813e1f34fde",
   "metadata": {},
   "outputs": [
    {
     "data": {
      "text/html": [
       "<div>\n",
       "<style scoped>\n",
       "    .dataframe tbody tr th:only-of-type {\n",
       "        vertical-align: middle;\n",
       "    }\n",
       "\n",
       "    .dataframe tbody tr th {\n",
       "        vertical-align: top;\n",
       "    }\n",
       "\n",
       "    .dataframe thead th {\n",
       "        text-align: right;\n",
       "    }\n",
       "</style>\n",
       "<table border=\"1\" class=\"dataframe\">\n",
       "  <thead>\n",
       "    <tr style=\"text-align: right;\">\n",
       "      <th></th>\n",
       "      <th>ouv</th>\n",
       "      <th>haut</th>\n",
       "      <th>bas</th>\n",
       "      <th>clot</th>\n",
       "      <th>vol</th>\n",
       "      <th>devise</th>\n",
       "    </tr>\n",
       "    <tr>\n",
       "      <th>date</th>\n",
       "      <th></th>\n",
       "      <th></th>\n",
       "      <th></th>\n",
       "      <th></th>\n",
       "      <th></th>\n",
       "      <th></th>\n",
       "    </tr>\n",
       "  </thead>\n",
       "  <tbody>\n",
       "    <tr>\n",
       "      <th>2023-04-28</th>\n",
       "      <td>74.82</td>\n",
       "      <td>76.93</td>\n",
       "      <td>73.97</td>\n",
       "      <td>76.70</td>\n",
       "      <td>26092</td>\n",
       "      <td>USD</td>\n",
       "    </tr>\n",
       "    <tr>\n",
       "      <th>2023-05-02</th>\n",
       "      <td>75.64</td>\n",
       "      <td>76.09</td>\n",
       "      <td>71.44</td>\n",
       "      <td>71.57</td>\n",
       "      <td>27840</td>\n",
       "      <td>USD</td>\n",
       "    </tr>\n",
       "    <tr>\n",
       "      <th>2023-05-03</th>\n",
       "      <td>71.61</td>\n",
       "      <td>71.79</td>\n",
       "      <td>67.97</td>\n",
       "      <td>68.19</td>\n",
       "      <td>34499</td>\n",
       "      <td>USD</td>\n",
       "    </tr>\n",
       "    <tr>\n",
       "      <th>2023-05-04</th>\n",
       "      <td>67.36</td>\n",
       "      <td>69.83</td>\n",
       "      <td>67.32</td>\n",
       "      <td>68.70</td>\n",
       "      <td>34704</td>\n",
       "      <td>USD</td>\n",
       "    </tr>\n",
       "    <tr>\n",
       "      <th>2023-05-05</th>\n",
       "      <td>68.70</td>\n",
       "      <td>71.82</td>\n",
       "      <td>68.52</td>\n",
       "      <td>71.36</td>\n",
       "      <td>25624</td>\n",
       "      <td>USD</td>\n",
       "    </tr>\n",
       "  </tbody>\n",
       "</table>\n",
       "</div>"
      ],
      "text/plain": [
       "              ouv   haut    bas   clot    vol devise\n",
       "date                                                \n",
       "2023-04-28  74.82  76.93  73.97  76.70  26092    USD\n",
       "2023-05-02  75.64  76.09  71.44  71.57  27840    USD\n",
       "2023-05-03  71.61  71.79  67.97  68.19  34499    USD\n",
       "2023-05-04  67.36  69.83  67.32  68.70  34704    USD\n",
       "2023-05-05  68.70  71.82  68.52  71.36  25624    USD"
      ]
     },
     "execution_count": 8,
     "metadata": {},
     "output_type": "execute_result"
    }
   ],
   "source": [
    "data.head()"
   ]
  },
  {
   "cell_type": "code",
   "execution_count": 9,
   "id": "c428869e-3971-4d40-b282-9cdd87861602",
   "metadata": {
    "scrolled": true
   },
   "outputs": [
    {
     "data": {
      "text/plain": [
       "<Axes: xlabel='date'>"
      ]
     },
     "execution_count": 9,
     "metadata": {},
     "output_type": "execute_result"
    },
    {
     "data": {
      "image/png": "[encoded data removed]",
      "text/plain": [
       "<Figure size 800x550 with 1 Axes>"
      ]
     },
     "metadata": {},
     "output_type": "display_data"
    }
   ],
   "source": [
    "values = data['clot']\n",
    "values.plot()"
   ]
  },
  {
   "cell_type": "code",
   "execution_count": 10,
   "id": "d348876a-8f10-4e26-84d2-59f75c3172be",
   "metadata": {},
   "outputs": [],
   "source": [
    "E=values.mean()"
   ]
  },
  {
   "cell_type": "code",
   "execution_count": 11,
   "id": "3b79a8ba-4d7b-4886-a54b-adecb7c8dde5",
   "metadata": {},
   "outputs": [
    {
     "data": {
      "text/plain": [
       "78.26609561752988"
      ]
     },
     "execution_count": 11,
     "metadata": {},
     "output_type": "execute_result"
    }
   ],
   "source": [
    "E"
   ]
  },
  {
   "cell_type": "code",
   "execution_count": 39,
   "id": "84b85b5e-abfa-4876-81a8-c72fc82ab75e",
   "metadata": {},
   "outputs": [
    {
     "data": {
      "text/plain": [
       "83.69"
      ]
     },
     "execution_count": 39,
     "metadata": {},
     "output_type": "execute_result"
    }
   ],
   "source": [
    "S0=values.iloc[250]\n",
    "S0"
   ]
  },
  {
   "cell_type": "code",
   "execution_count": 13,
   "id": "bff59547-1ec3-4e3b-a15c-f79c49891a62",
   "metadata": {},
   "outputs": [],
   "source": [
    "sigma=values.var()"
   ]
  },
  {
   "cell_type": "code",
   "execution_count": 14,
   "id": "945e9c1c-8d25-4de7-bc39-7645cb59cafd",
   "metadata": {},
   "outputs": [
    {
     "data": {
      "text/plain": [
       "38.12366789482075"
      ]
     },
     "execution_count": 14,
     "metadata": {},
     "output_type": "execute_result"
    }
   ],
   "source": [
    "sigma"
   ]
  },
  {
   "cell_type": "code",
   "execution_count": 136,
   "id": "a3c8b0df-2e0c-4d3f-9e75-acb5d87e65ea",
   "metadata": {},
   "outputs": [
    {
     "data": {
      "text/plain": [
       "6.174436645947608"
      ]
     },
     "execution_count": 136,
     "metadata": {},
     "output_type": "execute_result"
    }
   ],
   "source": [
    "math.sqrt(sigma)"
   ]
  },
  {
   "cell_type": "code",
   "execution_count": 137,
   "id": "098c5541-779a-49a9-9b42-a166c146c995",
   "metadata": {},
   "outputs": [
    {
     "data": {
      "text/plain": [
       "6.174436645947608"
      ]
     },
     "execution_count": 137,
     "metadata": {},
     "output_type": "execute_result"
    }
   ],
   "source": [
    "values.std()"
   ]
  },
  {
   "cell_type": "code",
   "execution_count": 80,
   "id": "a8224ed4-0da7-4d34-aa54-9928e498a69b",
   "metadata": {},
   "outputs": [],
   "source": [
    "#MouvementGeoBrow\n",
    "S0 \n",
    "r = E\n",
    "sigma =values.std()\n",
    "T = 0.01\n",
    "I = 100\n",
    "ST1 = S0 * np.exp((r - 0.5 * sigma ** 2) * T +\n",
    "sigma * math.sqrt(T) * npr.standard_normal(I))"
   ]
  },
  {
   "cell_type": "code",
   "execution_count": 81,
   "id": "98df7e28-114c-4509-bae7-8ac24fc02345",
   "metadata": {},
   "outputs": [
    {
     "data": {
      "text/plain": [
       "array([133.32376869,  59.17369231, 211.31933846, 157.38995793,\n",
       "        63.77180692, 110.86304152,  64.76323953,  93.86629538,\n",
       "        53.78929868,  85.67858268, 163.47461584, 311.92916375,\n",
       "        88.3437286 , 148.13382221, 186.71451371, 107.32779218,\n",
       "       101.49551548,  44.6997216 , 313.13995645, 125.26787243,\n",
       "       125.03285892, 150.39263707, 200.62076655, 119.40265257,\n",
       "       155.03782437, 201.56143396, 155.16642925, 133.32615517,\n",
       "       171.73084013,  69.64703553, 253.04268971, 445.25805862,\n",
       "       222.63215506,  95.39784699, 116.41362616, 108.99531665,\n",
       "       177.13220528, 134.81036198, 103.81001292, 175.38997775,\n",
       "       242.87930445, 200.45415275,  76.1323909 ,  87.37748837,\n",
       "       657.74281896, 118.45225293,  67.80421163, 201.45157306,\n",
       "        76.64351651, 166.14273289, 178.13917262, 135.92770753,\n",
       "        63.20393716,  72.75419515, 314.62220344, 192.35678018,\n",
       "       453.00389952, 109.43206166, 225.29716201, 295.0204121 ,\n",
       "        74.9359683 ,  64.40788832, 250.94446713, 162.1084685 ,\n",
       "       824.5906412 , 193.4499151 , 107.92308456, 121.69641872,\n",
       "       112.62474199, 120.767197  , 189.23306245, 124.55973964,\n",
       "       144.32653706, 300.44868015, 220.35963953,  24.86533451,\n",
       "       152.78309324, 154.99728833,  68.4704186 , 306.74587601,\n",
       "       210.90414838, 139.24849236,  32.82201626,  58.00582164,\n",
       "        37.74214178,  90.39774104, 444.71840889, 102.10247548,\n",
       "       212.75629536, 110.07914977, 701.34850335, 304.80996679,\n",
       "       282.95438764,  72.90483532,  87.25967264, 226.92846059,\n",
       "        32.49682891, 220.74698391, 264.42136863, 193.06593425])"
      ]
     },
     "execution_count": 81,
     "metadata": {},
     "output_type": "execute_result"
    }
   ],
   "source": [
    "ST1"
   ]
  },
  {
   "cell_type": "code",
   "execution_count": 71,
   "id": "0746db98-0eec-41b1-9a16-4c3f8b207ca6",
   "metadata": {},
   "outputs": [
    {
     "data": {
      "image/png": "[encoded data removed]",
      "text/plain": [
       "<Figure size 1000x600 with 1 Axes>"
      ]
     },
     "metadata": {},
     "output_type": "display_data"
    }
   ],
   "source": [
    "plt.figure(figsize=(10, 6))\n",
    "plt.hist(ST1, bins=50)\n",
    "plt.xlabel('Repartition possibilités du prix du pétrole')\n",
    "plt.ylabel('frequency');"
   ]
  },
  {
   "cell_type": "code",
   "execution_count": 72,
   "id": "b4e4006e-88d6-4e3c-a0aa-1c89a8f9e3b5",
   "metadata": {},
   "outputs": [
    {
     "data": {
      "image/png": "[encoded data removed]",
      "text/plain": [
       "<Figure size 1000x600 with 1 Axes>"
      ]
     },
     "metadata": {},
     "output_type": "display_data"
    }
   ],
   "source": [
    "#Echelle logarithmique\n",
    "ST2 = S0 * npr.lognormal((r - 0.5 * sigma ** 2) * T, sigma * math.sqrt(T), size=I)\n",
    "plt.figure(figsize=(10, 6))\n",
    "plt.hist(ST2, bins=50)\n",
    "plt.xlabel('index level')\n",
    "plt.ylabel('frequency');"
   ]
  },
  {
   "cell_type": "code",
   "execution_count": 74,
   "id": "896c594e-1bc6-4430-9e8b-20c279367962",
   "metadata": {},
   "outputs": [],
   "source": [
    "#Fonction qui permet extraire statistiques importantes\n",
    "\n",
    "def print_statistics(a1, a2):\n",
    " ''' Prints selected statistics.\n",
    " Parameters\n",
    " ==========\n",
    " a1, a2: ndarray objects\n",
    " results objects from simulation\n",
    " '''\n",
    " sta1 = scs.describe(a1) \n",
    " sta2 = scs.describe(a2) \n",
    " print('%14s %14s %14s' %\n",
    " ('statistic', 'data set 1', 'data set 2'))\n",
    " print(45 * \"-\")\n",
    " print('%14s %14.3f %14.3f' % ('size', sta1[0], sta2[0]))\n",
    " print('%14s %14.3f %14.3f' % ('min', sta1[1][0], sta2[1][0]))\n",
    " print('%14s %14.3f %14.3f' % ('max', sta1[1][1], sta2[1][1]))\n",
    " print('%14s %14.3f %14.3f' % ('mean', sta1[2], sta2[2]))\n",
    " print('%14s %14.3f %14.3f' % ('std', np.sqrt(sta1[3]), np.sqrt(sta2[3])))\n",
    " print('%14s %14.3f %14.3f' % ('skew', sta1[4], sta2[4]))\n",
    " print('%14s %14.3f %14.3f' % ('kurtosis', sta1[5], sta2[5]))"
   ]
  },
  {
   "cell_type": "code",
   "execution_count": 75,
   "id": "a111787a-d916-417a-bad3-33c7b3876c25",
   "metadata": {},
   "outputs": [
    {
     "name": "stdout",
     "output_type": "stream",
     "text": [
      "     statistic     data set 1     data set 2\n",
      "---------------------------------------------\n",
      "          size        100.000        100.000\n",
      "           min         43.429         35.749\n",
      "           max        459.969        587.261\n",
      "          mean        170.401        178.836\n",
      "           std         94.723        122.245\n",
      "          skew          1.129          1.461\n",
      "      kurtosis          0.744          1.916\n"
     ]
    }
   ],
   "source": [
    "print_statistics(ST1, ST2)"
   ]
  },
  {
   "cell_type": "code",
   "execution_count": 83,
   "id": "3fc79af8-dada-4de6-84b2-cfb9593fe324",
   "metadata": {},
   "outputs": [],
   "source": [
    "#Mouvement brownien geometrique ou ce n'est plus So qui est considéré mais St-1\n",
    "S0 \n",
    "r = E\n",
    "sigma =values.std()\n",
    "I = 10000 \n",
    "M = 50 \n",
    "dt = T / M \n",
    "S = np.zeros((M + 1, I)) \n",
    "S[0] = S0 \n",
    "for t in range(1, M + 1):\n",
    "    S[t] = S[t - 1] * np.exp((r - 0.5 * sigma ** 2) * dt +sigma * math.sqrt(dt) * npr.standard_normal(I))"
   ]
  },
  {
   "cell_type": "code",
   "execution_count": 86,
   "id": "3445e1de-5e17-41bc-80c9-1bdf257a0abc",
   "metadata": {},
   "outputs": [
    {
     "data": {
      "text/plain": [
       "array([ 72.99375085,  72.9827011 , 136.35359512, ...,  73.95594703,\n",
       "       115.82761855, 112.43434873])"
      ]
     },
     "execution_count": 86,
     "metadata": {},
     "output_type": "execute_result"
    }
   ],
   "source": [
    "\n"
   ]
  },
  {
   "cell_type": "code",
   "execution_count": 92,
   "id": "2d92337d-65a4-4a6f-87b5-3cc86f8bd931",
   "metadata": {},
   "outputs": [
    {
     "data": {
      "text/plain": [
       "Text(0, 0.5, 'frequency')"
      ]
     },
     "execution_count": 92,
     "metadata": {},
     "output_type": "execute_result"
    },
    {
     "data": {
      "image/png": "[encoded data removed]",
      "text/plain": [
       "<Figure size 1000x600 with 1 Axes>"
      ]
     },
     "metadata": {},
     "output_type": "display_data"
    }
   ],
   "source": [
    "plt.figure(figsize=(10, 6))\n",
    "plt.hist(S[1], bins=50)\n",
    "plt.xlabel('prix petrole euro')\n",
    "plt.ylabel('frequency')"
   ]
  },
  {
   "cell_type": "code",
   "execution_count": null,
   "id": "b2add8b8-0533-4bb5-b385-641c2f13bf9a",
   "metadata": {},
   "outputs": [],
   "source": []
  }
 ],
 "metadata": {
  "kernelspec": {
   "display_name": "Python 3 (ipykernel)",
   "language": "python",
   "name": "python3"
  },
  "language_info": {
   "codemirror_mode": {
    "name": "ipython",
    "version": 3
   },
   "file_extension": ".py",
   "mimetype": "text/x-python",
   "name": "python",
   "nbconvert_exporter": "python",
   "pygments_lexer": "ipython3",
   "version": "3.12.2"
  }
 },
 "nbformat": 4,
 "nbformat_minor": 5
}
